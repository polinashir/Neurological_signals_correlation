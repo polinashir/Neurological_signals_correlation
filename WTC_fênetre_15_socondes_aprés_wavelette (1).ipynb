{
 "cells": [
  {
   "cell_type": "code",
   "execution_count": 1,
   "id": "d44af558",
   "metadata": {
    "scrolled": true
   },
   "outputs": [],
   "source": [
    "import numpy as np\n",
    "import pandas as pd\n",
    "import matplotlib.pyplot as plt\n",
    "import piwavelet as wavelet\n",
    "import pylab\n",
    "import matplotlib.image as mpimg"
   ]
  },
  {
   "cell_type": "code",
   "execution_count": 2,
   "id": "cebdfe37",
   "metadata": {},
   "outputs": [],
   "source": [
    "nb_vol='122'"
   ]
  },
  {
   "cell_type": "code",
   "execution_count": 3,
   "id": "4c4f61b0",
   "metadata": {},
   "outputs": [],
   "source": [
    "url1 = \"C:\\\\Users\\\\polin\\\\Documents\\\\IMT\\\\Mission R&D\\\\Data_Synchro\\\\Vol_\"+nb_vol+\"\\\\vol_\"+ nb_vol +\"_Synchro.txt\""
   ]
  },
  {
   "cell_type": "code",
   "execution_count": 4,
   "id": "735f683a",
   "metadata": {},
   "outputs": [],
   "source": [
    "data = pd.read_csv(url1, sep=',', engine='python')"
   ]
  },
  {
   "cell_type": "code",
   "execution_count": 5,
   "id": "611b5ba9",
   "metadata": {},
   "outputs": [
    {
     "data": {
      "text/html": [
       "<div>\n",
       "<style scoped>\n",
       "    .dataframe tbody tr th:only-of-type {\n",
       "        vertical-align: middle;\n",
       "    }\n",
       "\n",
       "    .dataframe tbody tr th {\n",
       "        vertical-align: top;\n",
       "    }\n",
       "\n",
       "    .dataframe thead th {\n",
       "        text-align: right;\n",
       "    }\n",
       "</style>\n",
       "<table border=\"1\" class=\"dataframe\">\n",
       "  <thead>\n",
       "    <tr style=\"text-align: right;\">\n",
       "      <th></th>\n",
       "      <th>Time(s)</th>\n",
       "      <th>p1_Oxy1</th>\n",
       "      <th>p1_Oxy2</th>\n",
       "      <th>p2_Oxy1</th>\n",
       "      <th>p2_Oxy2</th>\n",
       "      <th>p1_Dxy1</th>\n",
       "      <th>p1_Dxy2</th>\n",
       "      <th>p2_Dxy1</th>\n",
       "      <th>p2_Dxy2</th>\n",
       "    </tr>\n",
       "  </thead>\n",
       "  <tbody>\n",
       "    <tr>\n",
       "      <th>0</th>\n",
       "      <td>0.0</td>\n",
       "      <td>-4.533400e-07</td>\n",
       "      <td>-6.869467e-08</td>\n",
       "      <td>-6.086874e-07</td>\n",
       "      <td>3.215988e-07</td>\n",
       "      <td>-8.738994e-08</td>\n",
       "      <td>9.359138e-08</td>\n",
       "      <td>7.151455e-07</td>\n",
       "      <td>2.297992e-07</td>\n",
       "    </tr>\n",
       "    <tr>\n",
       "      <th>1</th>\n",
       "      <td>0.1</td>\n",
       "      <td>-4.679091e-07</td>\n",
       "      <td>-5.476886e-08</td>\n",
       "      <td>-6.172763e-07</td>\n",
       "      <td>3.244848e-07</td>\n",
       "      <td>-7.811741e-08</td>\n",
       "      <td>1.099544e-07</td>\n",
       "      <td>7.257950e-07</td>\n",
       "      <td>2.327516e-07</td>\n",
       "    </tr>\n",
       "    <tr>\n",
       "      <th>2</th>\n",
       "      <td>0.2</td>\n",
       "      <td>-4.827490e-07</td>\n",
       "      <td>-4.129265e-08</td>\n",
       "      <td>-6.254526e-07</td>\n",
       "      <td>3.282258e-07</td>\n",
       "      <td>-6.868408e-08</td>\n",
       "      <td>1.263369e-07</td>\n",
       "      <td>7.366170e-07</td>\n",
       "      <td>2.359498e-07</td>\n",
       "    </tr>\n",
       "    <tr>\n",
       "      <th>3</th>\n",
       "      <td>0.3</td>\n",
       "      <td>-4.978459e-07</td>\n",
       "      <td>-2.829734e-08</td>\n",
       "      <td>-6.331931e-07</td>\n",
       "      <td>3.328433e-07</td>\n",
       "      <td>-5.909457e-08</td>\n",
       "      <td>1.427182e-07</td>\n",
       "      <td>7.476084e-07</td>\n",
       "      <td>2.393977e-07</td>\n",
       "    </tr>\n",
       "    <tr>\n",
       "      <th>4</th>\n",
       "      <td>0.4</td>\n",
       "      <td>-5.131851e-07</td>\n",
       "      <td>-1.581321e-08</td>\n",
       "      <td>-6.404750e-07</td>\n",
       "      <td>3.383573e-07</td>\n",
       "      <td>-4.935371e-08</td>\n",
       "      <td>1.590778e-07</td>\n",
       "      <td>7.587656e-07</td>\n",
       "      <td>2.430982e-07</td>\n",
       "    </tr>\n",
       "    <tr>\n",
       "      <th>...</th>\n",
       "      <td>...</td>\n",
       "      <td>...</td>\n",
       "      <td>...</td>\n",
       "      <td>...</td>\n",
       "      <td>...</td>\n",
       "      <td>...</td>\n",
       "      <td>...</td>\n",
       "      <td>...</td>\n",
       "      <td>...</td>\n",
       "    </tr>\n",
       "    <tr>\n",
       "      <th>18541</th>\n",
       "      <td>1854.1</td>\n",
       "      <td>2.299846e-07</td>\n",
       "      <td>-1.467024e-08</td>\n",
       "      <td>4.506527e-07</td>\n",
       "      <td>2.450882e-06</td>\n",
       "      <td>3.534781e-08</td>\n",
       "      <td>-4.881986e-08</td>\n",
       "      <td>-1.380312e-07</td>\n",
       "      <td>7.514582e-07</td>\n",
       "    </tr>\n",
       "    <tr>\n",
       "      <th>18542</th>\n",
       "      <td>1854.2</td>\n",
       "      <td>2.184995e-07</td>\n",
       "      <td>-1.328030e-08</td>\n",
       "      <td>4.276378e-07</td>\n",
       "      <td>2.316649e-06</td>\n",
       "      <td>3.253270e-08</td>\n",
       "      <td>-4.741434e-08</td>\n",
       "      <td>-1.306379e-07</td>\n",
       "      <td>7.080386e-07</td>\n",
       "    </tr>\n",
       "    <tr>\n",
       "      <th>18543</th>\n",
       "      <td>1854.3</td>\n",
       "      <td>2.069798e-07</td>\n",
       "      <td>-1.163103e-08</td>\n",
       "      <td>4.040960e-07</td>\n",
       "      <td>2.178513e-06</td>\n",
       "      <td>2.972749e-08</td>\n",
       "      <td>-4.587196e-08</td>\n",
       "      <td>-1.230351e-07</td>\n",
       "      <td>6.630550e-07</td>\n",
       "    </tr>\n",
       "    <tr>\n",
       "      <th>18544</th>\n",
       "      <td>1854.4</td>\n",
       "      <td>1.954228e-07</td>\n",
       "      <td>-9.748020e-09</td>\n",
       "      <td>3.800641e-07</td>\n",
       "      <td>2.036854e-06</td>\n",
       "      <td>2.693975e-08</td>\n",
       "      <td>-4.419285e-08</td>\n",
       "      <td>-1.152415e-07</td>\n",
       "      <td>6.166760e-07</td>\n",
       "    </tr>\n",
       "    <tr>\n",
       "      <th>18545</th>\n",
       "      <td>1854.5</td>\n",
       "      <td>1.838258e-07</td>\n",
       "      <td>-7.656858e-09</td>\n",
       "      <td>3.555784e-07</td>\n",
       "      <td>1.892035e-06</td>\n",
       "      <td>2.417716e-08</td>\n",
       "      <td>-4.237713e-08</td>\n",
       "      <td>-1.072756e-07</td>\n",
       "      <td>5.690641e-07</td>\n",
       "    </tr>\n",
       "  </tbody>\n",
       "</table>\n",
       "<p>18546 rows × 9 columns</p>\n",
       "</div>"
      ],
      "text/plain": [
       "       Time(s)       p1_Oxy1       p1_Oxy2       p2_Oxy1       p2_Oxy2  \\\n",
       "0          0.0 -4.533400e-07 -6.869467e-08 -6.086874e-07  3.215988e-07   \n",
       "1          0.1 -4.679091e-07 -5.476886e-08 -6.172763e-07  3.244848e-07   \n",
       "2          0.2 -4.827490e-07 -4.129265e-08 -6.254526e-07  3.282258e-07   \n",
       "3          0.3 -4.978459e-07 -2.829734e-08 -6.331931e-07  3.328433e-07   \n",
       "4          0.4 -5.131851e-07 -1.581321e-08 -6.404750e-07  3.383573e-07   \n",
       "...        ...           ...           ...           ...           ...   \n",
       "18541   1854.1  2.299846e-07 -1.467024e-08  4.506527e-07  2.450882e-06   \n",
       "18542   1854.2  2.184995e-07 -1.328030e-08  4.276378e-07  2.316649e-06   \n",
       "18543   1854.3  2.069798e-07 -1.163103e-08  4.040960e-07  2.178513e-06   \n",
       "18544   1854.4  1.954228e-07 -9.748020e-09  3.800641e-07  2.036854e-06   \n",
       "18545   1854.5  1.838258e-07 -7.656858e-09  3.555784e-07  1.892035e-06   \n",
       "\n",
       "            p1_Dxy1       p1_Dxy2       p2_Dxy1       p2_Dxy2  \n",
       "0     -8.738994e-08  9.359138e-08  7.151455e-07  2.297992e-07  \n",
       "1     -7.811741e-08  1.099544e-07  7.257950e-07  2.327516e-07  \n",
       "2     -6.868408e-08  1.263369e-07  7.366170e-07  2.359498e-07  \n",
       "3     -5.909457e-08  1.427182e-07  7.476084e-07  2.393977e-07  \n",
       "4     -4.935371e-08  1.590778e-07  7.587656e-07  2.430982e-07  \n",
       "...             ...           ...           ...           ...  \n",
       "18541  3.534781e-08 -4.881986e-08 -1.380312e-07  7.514582e-07  \n",
       "18542  3.253270e-08 -4.741434e-08 -1.306379e-07  7.080386e-07  \n",
       "18543  2.972749e-08 -4.587196e-08 -1.230351e-07  6.630550e-07  \n",
       "18544  2.693975e-08 -4.419285e-08 -1.152415e-07  6.166760e-07  \n",
       "18545  2.417716e-08 -4.237713e-08 -1.072756e-07  5.690641e-07  \n",
       "\n",
       "[18546 rows x 9 columns]"
      ]
     },
     "execution_count": 5,
     "metadata": {},
     "output_type": "execute_result"
    }
   ],
   "source": [
    "data"
   ]
  },
  {
   "cell_type": "code",
   "execution_count": 6,
   "id": "a3156818",
   "metadata": {},
   "outputs": [],
   "source": [
    "p1_Oxy_mean=(data['p1_Oxy1']+data[' p1_Oxy2'])/2\n",
    "p2_Oxy_mean=(data[' p2_Oxy1']+data[' p2_Oxy2'])/2\n",
    "data.insert(3, \"p1_Oxy_mean\", p1_Oxy_mean)\n",
    "data.insert(6, \"p2_Oxy_mean\", p2_Oxy_mean)"
   ]
  },
  {
   "cell_type": "raw",
   "id": "02e1a565",
   "metadata": {},
   "source": [
    "#Méthode pour enregister le graphique de la wavelette si besoin\n",
    "import matplotlib\n",
    "matplotlib.use('TkAgg')"
   ]
  },
  {
   "cell_type": "code",
   "execution_count": null,
   "id": "fabc4abc",
   "metadata": {},
   "outputs": [
    {
     "name": "stdout",
     "output_type": "stream",
     "text": [
      "warning: strmatch is obsolete; use strncmp or strcmp instead\n",
      "warning: implicit conversion from numeric to char\n",
      "warning: called from\n",
      "    wtcsignif at line 44 column 10\n",
      "    wtc at line 146 column 11\n",
      "    _pyeval at line 57 column 30\n",
      "\n"
     ]
    }
   ],
   "source": [
    "vol = pd.DataFrame(columns=[])\n",
    "nbCombi = 0\n",
    "#On veut le calcul des différentes combinaisons\n",
    "for j in range (1, 4):\n",
    "    y1 = data[data.columns[j]]\n",
    "    for l in range (4, 7):\n",
    "        y2 = data[data.columns[l]]\n",
    "        #Wavelet Coherence\n",
    "        y1 = (y1-y1.mean())/y1.std() #Normalization of the Signal 1\n",
    "        y2 = (y2-y2.mean())/y2.std() #Normalization of the Signal 2\n",
    "        myCoherence = wavelet.wcoherence(y1,y2) #Wavelet Coherence Analysis\n",
    "        Rsq,period,scale,coi,sig95=myCoherence() # If you want to know the individual properties\n",
    "\n",
    "        #On retire les valeurs dans le cône\n",
    "        for i in range (len(coi)):\n",
    "            triangle = coi[i]\n",
    "            index = 0\n",
    "            if triangle <= period[len(period)-1]:\n",
    "                if triangle <= period[0]:\n",
    "                    index = 0\n",
    "                else:\n",
    "                    while period[index] <= triangle: #ça suffit ça\n",
    "                        index +=1\n",
    "                for k in range (index, len(Rsq)):\n",
    "                    Rsq[k,i] = np.nan\n",
    "#Filtre les fréquences\n",
    "        period2 = period/10\n",
    "        frequence = 1/period2 #faire qu'une ligne\n",
    "        index=[]\n",
    "        for freq in frequence:\n",
    "            if freq<=0.15 and freq >= 0.015: #inverser conditions\n",
    "                index.append(list(frequence).index(freq))\n",
    "        new = Rsq[index[0]:index[len(index)-1],:]\n",
    "#Moyenne rsq par colonne pour avoir le score par seconde\n",
    "        column_mean = np.nanmean(new, axis=0)\n",
    "        vol.insert(nbCombi, nbCombi, column_mean)\n",
    "        nbCombi +=1\n",
    "            \n",
    "vol.columns = ['p1_Oxy1 / p2_Oxy1', 'p1_Oxy1 / p2_Oxy2', 'p1_Oxy1 / p2_OxyMEAN', 'p1_Oxy2 / p2_Oxy1', 'p1_Oxy2 / p2_Oxy2', 'p1_Oxy2 / p2_OxyMEAN', 'p1_OxyMEAN / p2_Oxy1', 'p1_OxyMEAN / p2_Oxy2', 'p1_OxyMEAN / p2_OxyMEAN']\n",
    "vol.insert(0,\"Time(s)\",data['Time(s)'])"
   ]
  },
  {
   "cell_type": "code",
   "execution_count": null,
   "id": "c078c9ce",
   "metadata": {},
   "outputs": [],
   "source": [
    "data_sec = vol\n",
    "data_sec=data_sec.groupby(data_sec.index // 10).mean()\n",
    "data_sec['Time(s)'] = round(data_sec['Time(s)'])+1\n",
    "data_15_sec=data_sec\n",
    "for i in range(data_sec.shape[0]-14):\n",
    "    data_15_sec.loc[i]=data_sec.loc[i:i+14].mean()\n",
    "data_15_sec.drop(data_15_sec.tail(14).index, inplace = True)\n",
    "#Changer en fonction de l'utilisateur \n",
    "data_15_sec.to_csv('C:/Users/polin/Documents/IMT/Mission R&D/wavelette/vol' + nb_vol + '.csv', index=False)"
   ]
  },
  {
   "cell_type": "raw",
   "id": "1faf0ddc",
   "metadata": {},
   "source": [
    "Traiter les vols "
   ]
  },
  {
   "cell_type": "code",
   "execution_count": 4,
   "id": "38cc3f2c",
   "metadata": {},
   "outputs": [],
   "source": [
    "#Changer en fonction de l'utilisateur \n",
    "vol = pd.read_csv(\"C:/Users/polin/Documents/IMT/Mission R&D/CSV/vol\"+nb_vol+\".csv\")"
   ]
  },
  {
   "cell_type": "code",
   "execution_count": 5,
   "id": "893e09f7",
   "metadata": {},
   "outputs": [],
   "source": [
    "vol=vol.dropna()\n",
    "vol=vol.reset_index()"
   ]
  },
  {
   "cell_type": "code",
   "execution_count": null,
   "id": "58d94e35",
   "metadata": {},
   "outputs": [],
   "source": [
    "#Faire la fênetre de 15 secondes aprés la wavelette (comme dans l'article de référence \n",
    "vol_copie=vol.copy()\n",
    "for i in range(vol.shape[0]-14):\n",
    "    vol.loc[i]=vol_copie.loc[i:i+14].mean()\n",
    "vol.drop(vol.tail(14).index, inplace = True)\n",
    "time=list(range(15,vol.shape[0]+15))\n",
    "vol.insert(0, \"Time\",time)\n",
    "vol=vol.drop(columns=[\"index\"])\n",
    "vol=vol.set_index('Time')"
   ]
  },
  {
   "cell_type": "code",
   "execution_count": 6,
   "id": "473f7c1f",
   "metadata": {},
   "outputs": [],
   "source": [
    "vol=vol.rename(columns={\"p1_Oxy1 / p2_Oxy1\": \"p1_Oxy1_p2_Oxy1\", \"p1_Oxy1 / p2_Oxy2\": \"p1_Oxy1_p2_Oxy2\", \"p1_Oxy1 / p2_OxyMEAN\": \"p1_Oxy1_p2_mean\", \"p1_Oxy2 / p2_Oxy1\": \"p1_Oxy2_p2_Oxy1\", \"p1_Oxy2 / p2_Oxy2\": \"p1_Oxy2_p2_Oxy2\", \"p1_Oxy2 / p2_OxyMEAN\": \"p1_Oxy2_p2_mean\",  \"p1_OxyMEAN / p2_Oxy1\": \"p1_mean_p2_Oxy1\", \"p1_OxyMEAN / p2_Oxy2\": \"p1_mean_p2_Oxy1\", \"p1_OxyMEAN / p2_Oxy2\": \"p1_mean_p2_Oxy2\", \"p1_OxyMEAN / p2_OxyMEAN\": \"p1_mean_p2_mean\"})\n",
    "\n"
   ]
  },
  {
   "cell_type": "raw",
   "id": "a91cd90f",
   "metadata": {},
   "source": [
    "Elbow method :"
   ]
  },
  {
   "cell_type": "raw",
   "id": "7e3581cb",
   "metadata": {},
   "source": [
    "Clutsering sur l'ensemble des valeurs (9 dimentions)"
   ]
  },
  {
   "cell_type": "code",
   "execution_count": 8,
   "id": "a28adb0b",
   "metadata": {},
   "outputs": [
    {
     "data": {
      "text/plain": [
       "array([[0.59957625, 0.18911692, 0.46609883, 0.18911692, 0.48589441],\n",
       "       [0.59573961, 0.18587962, 0.46099383, 0.18587962, 0.48264112],\n",
       "       [0.5918331 , 0.18265041, 0.45586019, 0.18265041, 0.47933567],\n",
       "       ...,\n",
       "       [0.34647335, 0.66866021, 0.15825298, 0.66866021, 0.30155458],\n",
       "       [0.34919134, 0.66694423, 0.1622591 , 0.66694423, 0.30059948],\n",
       "       [0.35186585, 0.6651656 , 0.16624681, 0.6651656 , 0.2995936 ]])"
      ]
     },
     "execution_count": 8,
     "metadata": {},
     "output_type": "execute_result"
    }
   ],
   "source": [
    "np.c_[vol['p1_Oxy1_p2_Oxy1'].values, vol['p1_Oxy2_p2_Oxy2'].values, vol['p1_Oxy2_p2_Oxy1'].values, vol['p1_Oxy2_p2_Oxy2'].values, vol['p1_Oxy1_p2_mean'].values]"
   ]
  },
  {
   "cell_type": "code",
   "execution_count": 9,
   "id": "f37f9e84",
   "metadata": {},
   "outputs": [
    {
     "name": "stderr",
     "output_type": "stream",
     "text": [
      "C:\\Users\\polin\\anaconda3\\lib\\site-packages\\sklearn\\cluster\\_kmeans.py:1036: UserWarning: KMeans is known to have a memory leak on Windows with MKL, when there are less chunks than available threads. You can avoid it by setting the environment variable OMP_NUM_THREADS=7.\n",
      "  warnings.warn(\n"
     ]
    },
    {
     "data": {
      "image/png": "[encoded data removed]",
      "text/plain": [
       "<Figure size 576x396 with 2 Axes>"
      ]
     },
     "metadata": {},
     "output_type": "display_data"
    },
    {
     "data": {
      "text/plain": [
       "<AxesSubplot:title={'center':'Distortion Score Elbow for KMeans Clustering'}, xlabel='k', ylabel='distortion score'>"
      ]
     },
     "execution_count": 9,
     "metadata": {},
     "output_type": "execute_result"
    }
   ],
   "source": [
    "from yellowbrick.cluster import KElbowVisualizer\n",
    "from sklearn.cluster import KMeans\n",
    "concat=np.c_[vol['p1_Oxy1_p2_Oxy1'].values, vol['p1_Oxy1_p2_Oxy2'].values, vol['p1_Oxy1_p2_mean'].values, vol['p1_Oxy2_p2_Oxy1'].values, vol['p1_Oxy2_p2_Oxy2'].values, vol['p1_Oxy2_p2_mean'].values, vol['p1_mean_p2_Oxy1'].values, vol['p1_mean_p2_Oxy2'].values, vol['p1_mean_p2_mean'].values]\n",
    "kmeans = KMeans()\n",
    "visualizer = KElbowVisualizer(kmeans, k=(1,15))\n",
    "visualizer.fit(concat)\n",
    "visualizer.show()"
   ]
  },
  {
   "cell_type": "raw",
   "id": "279e48e2",
   "metadata": {},
   "source": [
    "Clustering avec les valeurs de matrice de Rsq. \n",
    "Il faut changer le nombre entre parenthéses de la fonction KMeans en fonction du résultat de Elbow Méthode (graphique au dessus)"
   ]
  },
  {
   "cell_type": "code",
   "execution_count": 10,
   "id": "9d890174",
   "metadata": {},
   "outputs": [
    {
     "data": {
      "text/plain": [
       "<matplotlib.collections.PathCollection at 0x21ca2f11e20>"
      ]
     },
     "execution_count": 10,
     "metadata": {},
     "output_type": "execute_result"
    },
    {
     "data": {
      "image/png": "[encoded data removed]",
      "text/plain": [
       "<Figure size 576x396 with 1 Axes>"
      ]
     },
     "metadata": {},
     "output_type": "display_data"
    }
   ],
   "source": [
    "kmeans = KMeans(4) #changer pour chaque vol\n",
    "clust=kmeans.fit_predict(concat)\n",
    "#Pour visualiser : \n",
    "#plt.scatter(vol['p1_Oxy1_p2_Oxy1'].values, vol['p1_Oxy2_p2_Oxy2'].values,c=clust,s=10, cmap='viridis')"
   ]
  },
  {
   "cell_type": "code",
   "execution_count": 11,
   "id": "473f1b09",
   "metadata": {},
   "outputs": [
    {
     "data": {
      "text/html": [
       "<div>\n",
       "<style scoped>\n",
       "    .dataframe tbody tr th:only-of-type {\n",
       "        vertical-align: middle;\n",
       "    }\n",
       "\n",
       "    .dataframe tbody tr th {\n",
       "        vertical-align: top;\n",
       "    }\n",
       "\n",
       "    .dataframe thead th {\n",
       "        text-align: right;\n",
       "    }\n",
       "</style>\n",
       "<table border=\"1\" class=\"dataframe\">\n",
       "  <thead>\n",
       "    <tr style=\"text-align: right;\">\n",
       "      <th></th>\n",
       "      <th>index</th>\n",
       "      <th>p1_Oxy1_p2_Oxy1</th>\n",
       "      <th>p1_Oxy1_p2_Oxy2</th>\n",
       "      <th>p1_Oxy1_p2_mean</th>\n",
       "      <th>p1_Oxy2_p2_Oxy1</th>\n",
       "      <th>p1_Oxy2_p2_Oxy2</th>\n",
       "      <th>p1_Oxy2_p2_mean</th>\n",
       "      <th>p1_mean_p2_Oxy1</th>\n",
       "      <th>p1_mean_p2_Oxy2</th>\n",
       "      <th>p1_mean_p2_mean</th>\n",
       "      <th>cluster</th>\n",
       "    </tr>\n",
       "  </thead>\n",
       "  <tbody>\n",
       "    <tr>\n",
       "      <th>0</th>\n",
       "      <td>96</td>\n",
       "      <td>0.599576</td>\n",
       "      <td>0.327028</td>\n",
       "      <td>0.485894</td>\n",
       "      <td>0.466099</td>\n",
       "      <td>0.189117</td>\n",
       "      <td>0.338729</td>\n",
       "      <td>0.539438</td>\n",
       "      <td>0.238068</td>\n",
       "      <td>0.405137</td>\n",
       "      <td>0</td>\n",
       "    </tr>\n",
       "    <tr>\n",
       "      <th>1</th>\n",
       "      <td>97</td>\n",
       "      <td>0.595740</td>\n",
       "      <td>0.324830</td>\n",
       "      <td>0.482641</td>\n",
       "      <td>0.460994</td>\n",
       "      <td>0.185880</td>\n",
       "      <td>0.334174</td>\n",
       "      <td>0.534717</td>\n",
       "      <td>0.234926</td>\n",
       "      <td>0.400875</td>\n",
       "      <td>0</td>\n",
       "    </tr>\n",
       "    <tr>\n",
       "      <th>2</th>\n",
       "      <td>98</td>\n",
       "      <td>0.591833</td>\n",
       "      <td>0.322603</td>\n",
       "      <td>0.479336</td>\n",
       "      <td>0.455860</td>\n",
       "      <td>0.182650</td>\n",
       "      <td>0.329609</td>\n",
       "      <td>0.529946</td>\n",
       "      <td>0.231777</td>\n",
       "      <td>0.396583</td>\n",
       "      <td>0</td>\n",
       "    </tr>\n",
       "    <tr>\n",
       "      <th>3</th>\n",
       "      <td>99</td>\n",
       "      <td>0.587857</td>\n",
       "      <td>0.320350</td>\n",
       "      <td>0.475979</td>\n",
       "      <td>0.450699</td>\n",
       "      <td>0.179430</td>\n",
       "      <td>0.325036</td>\n",
       "      <td>0.525127</td>\n",
       "      <td>0.228619</td>\n",
       "      <td>0.392261</td>\n",
       "      <td>0</td>\n",
       "    </tr>\n",
       "    <tr>\n",
       "      <th>4</th>\n",
       "      <td>100</td>\n",
       "      <td>0.583811</td>\n",
       "      <td>0.318070</td>\n",
       "      <td>0.472570</td>\n",
       "      <td>0.445510</td>\n",
       "      <td>0.176220</td>\n",
       "      <td>0.320455</td>\n",
       "      <td>0.520258</td>\n",
       "      <td>0.225456</td>\n",
       "      <td>0.387912</td>\n",
       "      <td>0</td>\n",
       "    </tr>\n",
       "    <tr>\n",
       "      <th>...</th>\n",
       "      <td>...</td>\n",
       "      <td>...</td>\n",
       "      <td>...</td>\n",
       "      <td>...</td>\n",
       "      <td>...</td>\n",
       "      <td>...</td>\n",
       "      <td>...</td>\n",
       "      <td>...</td>\n",
       "      <td>...</td>\n",
       "      <td>...</td>\n",
       "      <td>...</td>\n",
       "    </tr>\n",
       "    <tr>\n",
       "      <th>1644</th>\n",
       "      <td>1740</td>\n",
       "      <td>0.340909</td>\n",
       "      <td>0.575201</td>\n",
       "      <td>0.303307</td>\n",
       "      <td>0.150192</td>\n",
       "      <td>0.671903</td>\n",
       "      <td>0.459926</td>\n",
       "      <td>0.227216</td>\n",
       "      <td>0.656333</td>\n",
       "      <td>0.384408</td>\n",
       "      <td>2</td>\n",
       "    </tr>\n",
       "    <tr>\n",
       "      <th>1645</th>\n",
       "      <td>1741</td>\n",
       "      <td>0.343712</td>\n",
       "      <td>0.574190</td>\n",
       "      <td>0.302457</td>\n",
       "      <td>0.154230</td>\n",
       "      <td>0.670313</td>\n",
       "      <td>0.457563</td>\n",
       "      <td>0.231002</td>\n",
       "      <td>0.654776</td>\n",
       "      <td>0.382680</td>\n",
       "      <td>2</td>\n",
       "    </tr>\n",
       "    <tr>\n",
       "      <th>1646</th>\n",
       "      <td>1742</td>\n",
       "      <td>0.346473</td>\n",
       "      <td>0.573114</td>\n",
       "      <td>0.301555</td>\n",
       "      <td>0.158253</td>\n",
       "      <td>0.668660</td>\n",
       "      <td>0.455194</td>\n",
       "      <td>0.234745</td>\n",
       "      <td>0.653160</td>\n",
       "      <td>0.380928</td>\n",
       "      <td>2</td>\n",
       "    </tr>\n",
       "    <tr>\n",
       "      <th>1647</th>\n",
       "      <td>1743</td>\n",
       "      <td>0.349191</td>\n",
       "      <td>0.571973</td>\n",
       "      <td>0.300599</td>\n",
       "      <td>0.162259</td>\n",
       "      <td>0.666944</td>\n",
       "      <td>0.452820</td>\n",
       "      <td>0.238445</td>\n",
       "      <td>0.651486</td>\n",
       "      <td>0.379152</td>\n",
       "      <td>2</td>\n",
       "    </tr>\n",
       "    <tr>\n",
       "      <th>1648</th>\n",
       "      <td>1744</td>\n",
       "      <td>0.351866</td>\n",
       "      <td>0.570769</td>\n",
       "      <td>0.299594</td>\n",
       "      <td>0.166247</td>\n",
       "      <td>0.665166</td>\n",
       "      <td>0.450442</td>\n",
       "      <td>0.242100</td>\n",
       "      <td>0.649755</td>\n",
       "      <td>0.377354</td>\n",
       "      <td>2</td>\n",
       "    </tr>\n",
       "  </tbody>\n",
       "</table>\n",
       "<p>1649 rows × 11 columns</p>\n",
       "</div>"
      ],
      "text/plain": [
       "      index  p1_Oxy1_p2_Oxy1  p1_Oxy1_p2_Oxy2  p1_Oxy1_p2_mean  \\\n",
       "0        96         0.599576         0.327028         0.485894   \n",
       "1        97         0.595740         0.324830         0.482641   \n",
       "2        98         0.591833         0.322603         0.479336   \n",
       "3        99         0.587857         0.320350         0.475979   \n",
       "4       100         0.583811         0.318070         0.472570   \n",
       "...     ...              ...              ...              ...   \n",
       "1644   1740         0.340909         0.575201         0.303307   \n",
       "1645   1741         0.343712         0.574190         0.302457   \n",
       "1646   1742         0.346473         0.573114         0.301555   \n",
       "1647   1743         0.349191         0.571973         0.300599   \n",
       "1648   1744         0.351866         0.570769         0.299594   \n",
       "\n",
       "      p1_Oxy2_p2_Oxy1  p1_Oxy2_p2_Oxy2  p1_Oxy2_p2_mean  p1_mean_p2_Oxy1  \\\n",
       "0            0.466099         0.189117         0.338729         0.539438   \n",
       "1            0.460994         0.185880         0.334174         0.534717   \n",
       "2            0.455860         0.182650         0.329609         0.529946   \n",
       "3            0.450699         0.179430         0.325036         0.525127   \n",
       "4            0.445510         0.176220         0.320455         0.520258   \n",
       "...               ...              ...              ...              ...   \n",
       "1644         0.150192         0.671903         0.459926         0.227216   \n",
       "1645         0.154230         0.670313         0.457563         0.231002   \n",
       "1646         0.158253         0.668660         0.455194         0.234745   \n",
       "1647         0.162259         0.666944         0.452820         0.238445   \n",
       "1648         0.166247         0.665166         0.450442         0.242100   \n",
       "\n",
       "      p1_mean_p2_Oxy2  p1_mean_p2_mean  cluster  \n",
       "0            0.238068         0.405137        0  \n",
       "1            0.234926         0.400875        0  \n",
       "2            0.231777         0.396583        0  \n",
       "3            0.228619         0.392261        0  \n",
       "4            0.225456         0.387912        0  \n",
       "...               ...              ...      ...  \n",
       "1644         0.656333         0.384408        2  \n",
       "1645         0.654776         0.382680        2  \n",
       "1646         0.653160         0.380928        2  \n",
       "1647         0.651486         0.379152        2  \n",
       "1648         0.649755         0.377354        2  \n",
       "\n",
       "[1649 rows x 11 columns]"
      ]
     },
     "execution_count": 11,
     "metadata": {},
     "output_type": "execute_result"
    }
   ],
   "source": [
    "cluster_map = vol.copy()\n",
    "cluster_map['cluster'] = kmeans.labels_\n",
    "cluster_map"
   ]
  },
  {
   "cell_type": "code",
   "execution_count": 12,
   "id": "fb4a1b30",
   "metadata": {
    "scrolled": true
   },
   "outputs": [
    {
     "data": {
      "image/png": "[encoded data removed]",
      "text/plain": [
       "<Figure size 576x396 with 1 Axes>"
      ]
     },
     "metadata": {},
     "output_type": "display_data"
    }
   ],
   "source": [
    "heure_ancident = pd.read_excel(\"C:/Users/polin/Documents/IMT/Mission R&D/Incident + Heure.xlsx\")\n",
    "heure_ancident=heure_ancident[heure_ancident['Numéro vol']==int(nb_vol)]\n",
    "heure_ancident['Time'].values.tolist()\n",
    "\n",
    "plt.plot(cluster_map.index.values.tolist(), cluster_map['cluster'].values.tolist())\n",
    "for i in heure_ancident['Time'].values:\n",
    "    plt.axvline(i, color='red')\n",
    "    \n",
    "plt.title('Vol'+nb_vol)\n",
    "#Changer en fonction de l'utilisateur \n",
    "plt.savefig('C:/Users/polin/Documents/IMT/Mission R&D/clusters+incidents/clust_' + nb_vol + '.png')\n",
    "plt.show()"
   ]
  },
  {
   "cell_type": "code",
   "execution_count": 13,
   "id": "6dc76af0",
   "metadata": {},
   "outputs": [
    {
     "data": {
      "text/plain": [
       "array([[0.40496819, 0.32677012, 0.36120026, 0.43602731, 0.406231  ,\n",
       "        0.44566393, 0.44257732, 0.38372892, 0.41905299],\n",
       "       [0.60422297, 0.58256859, 0.52983406, 0.51723637, 0.57389124,\n",
       "        0.48707644, 0.55541754, 0.57451045, 0.49314351],\n",
       "       [0.31950357, 0.49498008, 0.34509547, 0.27615213, 0.64144838,\n",
       "        0.46391441, 0.25768863, 0.58403873, 0.37826325],\n",
       "       [0.30800022, 0.33167204, 0.26264546, 0.29330681, 0.3537012 ,\n",
       "        0.27823725, 0.2650761 , 0.31713411, 0.21273354]])"
      ]
     },
     "execution_count": 13,
     "metadata": {},
     "output_type": "execute_result"
    }
   ],
   "source": [
    "centers = kmeans.cluster_centers_\n",
    "centers"
   ]
  },
  {
   "cell_type": "code",
   "execution_count": 14,
   "id": "55886d0e",
   "metadata": {
    "scrolled": false
   },
   "outputs": [
    {
     "data": {
      "image/png": "[encoded data removed]",
      "text/plain": [
       "<Figure size 576x396 with 8 Axes>"
      ]
     },
     "metadata": {},
     "output_type": "display_data"
    }
   ],
   "source": [
    "import seaborn as sns\n",
    "sns.set_theme()\n",
    "centers = kmeans.cluster_centers_\n",
    "figure = plt.figure()\n",
    "j=len(centers)//2\n",
    "w=len(centers)-j\n",
    "for i in range(len(centers)):\n",
    "    center_map=[centers[i][:3],centers[i][3:6], centers[i][6:]]\n",
    "    plt.subplot(2,w,i+1)\n",
    "    sns.heatmap(center_map, annot=True, vmax=1, vmin=0, xticklabels=['p2_Oxy1', 'p2_Oxy2', 'p2_mean'], yticklabels=['p1_Oxy1', 'p1_Oxy2', 'p1_mean'])\n",
    "    plt.title(\"Cluster\"+str(i))\n",
    "plt.subplots_adjust(left=0.1,bottom=0.1, right=1.1, top=1.2, wspace=0.4, hspace=0.4)\n",
    "figure = plt.gcf()\n",
    "figure.suptitle('Vol'+nb_vol, y=1.3, x=0.6)\n",
    "#Changer en fonction de l'utilisateur \n",
    "plt.savefig('C:/Users/polin/Documents/IMT/Mission R&D/heatmap/heatmap_' + nb_vol + '.png', bbox_inches='tight')\n",
    "plt.show()"
   ]
  },
  {
   "cell_type": "code",
   "execution_count": null,
   "id": "6506af3b",
   "metadata": {},
   "outputs": [],
   "source": []
  }
 ],
 "metadata": {
  "kernelspec": {
   "display_name": "Python 3 (ipykernel)",
   "language": "python",
   "name": "python3"
  },
  "language_info": {
   "codemirror_mode": {
    "name": "ipython",
    "version": 3
   },
   "file_extension": ".py",
   "mimetype": "text/x-python",
   "name": "python",
   "nbconvert_exporter": "python",
   "pygments_lexer": "ipython3",
   "version": "3.8.8"
  }
 },
 "nbformat": 4,
 "nbformat_minor": 5
}
